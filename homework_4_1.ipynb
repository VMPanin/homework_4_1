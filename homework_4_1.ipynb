{
 "cells": [
  {
   "cell_type": "code",
   "execution_count": 3,
   "metadata": {
    "collapsed": true
   },
   "outputs": [],
   "source": [
    "import pandas as pd"
   ]
  },
  {
   "cell_type": "code",
   "execution_count": 16,
   "metadata": {},
   "outputs": [],
   "source": [
    "DATA_PATH = 'C:\\\\names\\\\'"
   ]
  },
  {
   "cell_type": "code",
   "execution_count": 83,
   "metadata": {},
   "outputs": [
    {
     "data": {
      "text/plain": [
       "['James', 'John', 'Robert']"
      ]
     },
     "execution_count": 83,
     "metadata": {},
     "output_type": "execute_result"
    }
   ],
   "source": [
    "def top3_names(list_years):\n",
    "    cols = ['Name', 'Gender', 'Count']\n",
    "    all_names_list = []\n",
    "    for year in list_years:\n",
    "        names = pd.read_csv(DATA_PATH + 'yob_.txt'.replace('_', str(year)), names = cols)\n",
    "        all_names_list.append(names)\n",
    "    names_all = pd.concat(all_names_list)\n",
    "    a = names_all.groupby('Name').sum().sort_values(by='Count', ascending=False).head(3)\n",
    "    top3_names_list = [a.Count.keys()[0], a.Count.keys()[1], a.Count.keys()[2]]\n",
    "    return top3_names_list\n",
    "top3_names([1900, 1950, 2000])\n"
   ]
  },
  {
   "cell_type": "code",
   "execution_count": 130,
   "metadata": {},
   "outputs": [
    {
     "data": {
      "text/plain": [
       "{'F': [299810, 1713259, 1814922], 'M': [150486, 1790871, 1962744]}"
      ]
     },
     "execution_count": 130,
     "metadata": {},
     "output_type": "execute_result"
    }
   ],
   "source": [
    "def count_names_by_sex(list_years):\n",
    "    cols = ['Name', 'Gender', 'Count']\n",
    "    all_names_list = []\n",
    "    dict_years = {}\n",
    "    for year in list_years:\n",
    "        names = pd.read_csv(DATA_PATH + 'yob_.txt'.replace('_', str(year)), names = cols)\n",
    "        all_names_list.append(names)\n",
    "        dict_years[str(year)] = names\n",
    "    names_all = pd.concat(dict_years, names=['Year', 'Pos'])\n",
    "    a = names_all.groupby(['Gender','Year']).sum()\n",
    "    dynamics_dict = {}\n",
    "    dynamics_dict[a.Count.keys()[0][0]]=list(a.Count.values[0:3])\n",
    "    dynamics_dict[a.Count.keys()[3][0]]=list(a.Count.values[3:6])\n",
    "    return dynamics_dict\n",
    "count_names_by_sex([1900, 1950, 2000])"
   ]
  }
 ],
 "metadata": {
  "kernelspec": {
   "display_name": "Python 3",
   "language": "python",
   "name": "python3"
  },
  "language_info": {
   "codemirror_mode": {
    "name": "ipython",
    "version": 3
   },
   "file_extension": ".py",
   "mimetype": "text/x-python",
   "name": "python",
   "nbconvert_exporter": "python",
   "pygments_lexer": "ipython3",
   "version": "3.6.1"
  }
 },
 "nbformat": 4,
 "nbformat_minor": 2
}
